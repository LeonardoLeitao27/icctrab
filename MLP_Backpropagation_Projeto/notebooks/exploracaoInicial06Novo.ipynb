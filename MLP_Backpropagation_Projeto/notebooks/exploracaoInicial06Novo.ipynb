{
 "cells": [
  {
   "cell_type": "markdown",
   "id": "29d94712",
   "metadata": {},
   "source": [
    "# 6. Validação Cruzada (k-Fold) da Configuração Final\n",
    "Esta etapa aplica validação cruzada com $k=10$ partições na melhor configuração de rede obtida anteriormente.\n",
    "\n",
    "Serão avaliadas as seguintes métricas em cada partição:\n",
    "- Erro Relativo Médio (MRE)\n",
    "- Medida-F (F1-score)\n",
    "- Erro Médio Quadrático (MSE)\n",
    "- Curvas de erro (treino e teste por época)\n",
    "\n",
    "Ao final, são calculadas média e variância para comparar a robustez do modelo."
   ]
  },
  {
   "cell_type": "code",
   "execution_count": null,
   "id": "3fdae626",
   "metadata": {},
   "outputs": [],
   "source": [
    "import numpy as np\n",
    "import matplotlib.pyplot as plt\n",
    "from sklearn.model_selection import KFold\n",
    "from sklearn.metrics import mean_squared_error, f1_score\n",
    "from tensorflow.keras.models import Sequential\n",
    "from tensorflow.keras.layers import Dense, Flatten\n",
    "from tensorflow.keras.optimizers import SGD\n",
    "from tensorflow.keras.initializers import GlorotUniform\n",
    "from tensorflow.keras.losses import MeanSquaredError\n",
    "from tensorflow.keras.utils import to_categorical\n",
    "from tensorflow.keras.datasets import fashion_mnist"
   ]
  },
  {
   "cell_type": "code",
   "execution_count": null,
   "id": "a4fc6c14",
   "metadata": {},
   "outputs": [],
   "source": [
    "(x, y), _ = fashion_mnist.load_data()\n",
    "x = x / 255.0\n",
    "y = to_categorical(y, 10)"
   ]
  },
  {
   "cell_type": "code",
   "execution_count": null,
   "id": "b77f4d36",
   "metadata": {},
   "outputs": [],
   "source": [
    "def build_model():\n",
    "    model = Sequential([\n",
    "        Flatten(input_shape=(28, 28)),\n",
    "        Dense(64, activation='relu', kernel_initializer=GlorotUniform(seed=0)),\n",
    "        Dense(10, activation='softmax')\n",
    "    ])\n",
    "    return model\n",
    "\n",
    "def mean_relative_error(y_true, y_pred):\n",
    "    return np.mean(np.abs((y_true - y_pred) / np.maximum(y_true, 1e-8)))"
   ]
  },
  {
   "cell_type": "markdown",
   "id": "0d5e4331",
   "metadata": {},
   "source": [
    "## Execução da Validação Cruzada (k=10)\n",
    "Para cada partição, treinamos o modelo por 20 épocas e registramos os erros."
   ]
  },
  {
   "cell_type": "code",
   "execution_count": null,
   "id": "835e76ab",
   "metadata": {},
   "outputs": [],
   "source": [
    "k = 10\n",
    "kf = KFold(n_splits=k, shuffle=True, random_state=42)\n",
    "\n",
    "histories = []\n",
    "mre_scores = []\n",
    "f1_scores = []\n",
    "mse_scores = []\n",
    "\n",
    "for i, (train_idx, test_idx) in enumerate(kf.split(x)):\n",
    "    x_train, x_test = x[train_idx], x[test_idx]\n",
    "    y_train, y_test = y[train_idx], y[test_idx]\n",
    "\n",
    "    model = build_model()\n",
    "    model.compile(optimizer=SGD(learning_rate=0.01),\n",
    "                  loss=MeanSquaredError(),\n",
    "                  metrics=['accuracy'])\n",
    "\n",
    "    history = model.fit(x_train, y_train, epochs=20, verbose=0, validation_data=(x_test, y_test))\n",
    "    histories.append(history)\n",
    "\n",
    "    y_pred_test = model.predict(x_test)\n",
    "    y_pred_classes = np.argmax(y_pred_test, axis=1)\n",
    "    y_true_classes = np.argmax(y_test, axis=1)\n",
    "\n",
    "    mre = mean_relative_error(y_true_classes, y_pred_classes)\n",
    "    f1 = f1_score(y_true_classes, y_pred_classes, average='weighted')\n",
    "    mse = mean_squared_error(y_true_classes, y_pred_classes)\n",
    "\n",
    "    mre_scores.append(mre)\n",
    "    f1_scores.append(f1)\n",
    "    mse_scores.append(mse)\n",
    "\n",
    "    print(f\"Fold {i+1}: MRE={mre:.4f}, F1={f1:.4f}, MSE={mse:.4f}\")"
   ]
  },
  {
   "cell_type": "markdown",
   "id": "3604b4fa",
   "metadata": {},
   "source": [
    "## Curvas de Erro por Fold\n",
    "Visualizamos a evolução da perda de treino e validação por época."
   ]
  },
  {
   "cell_type": "code",
   "execution_count": null,
   "id": "b14598ee",
   "metadata": {},
   "outputs": [],
   "source": [
    "for i, h in enumerate(histories):\n",
    "    plt.figure(figsize=(8, 4))\n",
    "    plt.plot(h.history['loss'], label='Treino')\n",
    "    plt.plot(h.history['val_loss'], label='Validação')\n",
    "    plt.title(f'Fold {i+1} – Erro vs Época')\n",
    "    plt.xlabel('Época')\n",
    "    plt.ylabel('Erro')\n",
    "    plt.legend()\n",
    "    plt.grid(True)\n",
    "    plt.show()"
   ]
  },
  {
   "cell_type": "markdown",
   "id": "0c3f8a6d",
   "metadata": {},
   "source": [
    "## Estatísticas Finais das Métricas\n",
    "Abaixo, temos a média e variância dos resultados ao longo dos 10 folds."
   ]
  },
  {
   "cell_type": "code",
   "execution_count": null,
   "id": "8d789b14",
   "metadata": {},
   "outputs": [],
   "source": [
    "def resumo(nome, valores):\n",
    "    print(f\"{nome} → Média: {np.mean(valores):.4f} | Variância: {np.var(valores):.4f}\")\n",
    "\n",
    "resumo(\"MRE\", mre_scores)\n",
    "resumo(\"F1-score\", f1_scores)\n",
    "resumo(\"MSE\", mse_scores)"
   ]
  }
 ],
 "metadata": {
  "kernelspec": {
   "display_name": "Python (.venv MLP)",
   "language": "python",
   "name": "mlp_venv"
  },
  "language_info": {
   "name": "python",
   "version": "3.10.0"
  }
 },
 "nbformat": 4,
 "nbformat_minor": 5
}
