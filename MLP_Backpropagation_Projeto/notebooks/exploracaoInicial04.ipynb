{
 "cells": [
  {
   "cell_type": "code",
   "execution_count": null,
   "id": "b355f8b2",
   "metadata": {},
   "outputs": [
    {
     "name": "stdout",
     "output_type": "stream",
     "text": [
      "\n",
      "### Qualidade dos dados: limpo ###\n",
      "Treinando com 1000 exemplos\n"
     ]
    },
    {
     "name": "stderr",
     "output_type": "stream",
     "text": [
      "c:\\Users\\Melqui\\AppData\\Local\\Programs\\Python\\Python311\\Lib\\site-packages\\keras\\src\\layers\\reshaping\\flatten.py:37: UserWarning: Do not pass an `input_shape`/`input_dim` argument to a layer. When using Sequential models, prefer using an `Input(shape)` object as the first layer in the model instead.\n",
      "  super().__init__(**kwargs)\n"
     ]
    },
    {
     "name": "stdout",
     "output_type": "stream",
     "text": [
      "Treinando com 5000 exemplos\n",
      "Treinando com 10000 exemplos\n",
      "Treinando com 30000 exemplos\n"
     ]
    }
   ],
   "source": [
    "import tensorflow as tf\n",
    "import numpy as np\n",
    "import matplotlib.pyplot as plt\n",
    "from tensorflow.keras.models import Sequential\n",
    "from tensorflow.keras.layers import Dense, Flatten\n",
    "from tensorflow.keras.initializers import GlorotUniform\n",
    "from tensorflow.keras.optimizers import SGD\n",
    "from tensorflow.keras.losses import MeanSquaredError\n",
    "\n",
    "# Carregar dados e normalizar\n",
    "(x_train, y_train), (_, _) = tf.keras.datasets.fashion_mnist.load_data()\n",
    "x_train = x_train / 255.0\n",
    "y_train = tf.keras.utils.to_categorical(y_train, 10)\n",
    "\n",
    "# Função para adicionar ruído gaussiano (opcional)\n",
    "def adicionar_ruido(X, ruido_std=0.1):\n",
    "    ruido = np.random.normal(loc=0.0, scale=ruido_std, size=X.shape)\n",
    "    X_noisy = X + ruido\n",
    "    X_noisy = np.clip(X_noisy, 0., 1.)  # garantir que fique entre 0 e 1\n",
    "    return X_noisy\n",
    "\n",
    "# Tamanhos diferentes para testar\n",
    "tamanhos = [1000, 5000, 10000, 30000]\n",
    "\n",
    "# Qualidade dos dados: 'limpo' ou 'ruidoso'\n",
    "qualidades = ['limpo', 'ruidoso']\n",
    "\n",
    "def build_model():\n",
    "    model = Sequential([\n",
    "        Flatten(input_shape=(28, 28)),\n",
    "        Dense(64, activation='relu', kernel_initializer=GlorotUniform(seed=0)),\n",
    "        Dense(10, activation='softmax')\n",
    "    ])\n",
    "    return model\n",
    "\n",
    "loss_fn = MeanSquaredError()\n",
    "results = {}\n",
    "\n",
    "for qualidade in qualidades:\n",
    "    print(f\"\\n### Qualidade dos dados: {qualidade} ###\")\n",
    "    for n in tamanhos:\n",
    "        print(f\"Treinando com {n} exemplos\")\n",
    "        \n",
    "        x_subset = x_train[:n]\n",
    "        y_subset = y_train[:n]\n",
    "        \n",
    "        if qualidade == 'ruidoso':\n",
    "            x_subset = adicionar_ruido(x_subset, ruido_std=0.1)\n",
    "        \n",
    "        model = build_model()\n",
    "        model.compile(optimizer=SGD(learning_rate=0.01),\n",
    "                      loss=loss_fn,\n",
    "                      metrics=['mse'])\n",
    "        \n",
    "        history = model.fit(x_subset, y_subset, epochs=20, verbose=0)\n",
    "        loss_curve = history.history['loss']\n",
    "        \n",
    "        results[(qualidade, n)] = loss_curve\n",
    "        \n",
    "        plt.plot(loss_curve, label=f'{qualidade} - {n} exemplos')\n",
    "\n",
    "plt.title('Curvas de perda (Loss) – Quantidade e Qualidade dos Dados')\n",
    "plt.xlabel('Época')\n",
    "plt.ylabel('Loss (MSE)')\n",
    "plt.legend()\n",
    "plt.grid(True)\n",
    "plt.show()\n"
   ]
  }
 ],
 "metadata": {
  "kernelspec": {
   "display_name": "Python 3",
   "language": "python",
   "name": "python3"
  },
  "language_info": {
   "codemirror_mode": {
    "name": "ipython",
    "version": 3
   },
   "file_extension": ".py",
   "mimetype": "text/x-python",
   "name": "python",
   "nbconvert_exporter": "python",
   "pygments_lexer": "ipython3",
   "version": "3.11.9"
  }
 },
 "nbformat": 4,
 "nbformat_minor": 5
}
