{
 "cells": [
  {
   "cell_type": "markdown",
   "id": "a24c914c",
   "metadata": {},
   "source": [
    "## 1.Imports\n",
    "Importa-se as bibliotecas necessárias para construção e treinamento do modelo."
   ]
  },
  {
   "cell_type": "code",
   "execution_count": 2,
   "id": "87b62d70",
   "metadata": {},
   "outputs": [],
   "source": [
    "from sklearn.metrics import mean_squared_error, f1_score\n",
    "from sklearn.neural_network import MLPClassifier\n",
    "from sklearn.preprocessing import StandardScaler\n",
    "from sklearn.model_selection import train_test_split\n",
    "from sklearn.datasets import fetch_openml\n",
    "import numpy as np"
   ]
  },
  {
   "cell_type": "markdown",
   "id": "aade480f",
   "metadata": {},
   "source": [
    "## 2. Carregamento e pré-processamento dos dados\n",
    "Usamos o dataset Fashion MNIST e normalizamos os dados."
   ]
  },
  {
   "cell_type": "code",
   "execution_count": 3,
   "id": "b92664bb",
   "metadata": {},
   "outputs": [],
   "source": [
    "X, y = fetch_openml(\"Fashion-MNIST\", version=1, return_X_y=True, as_frame=False)\n",
    "X = X / 255.0  \n",
    "y = y.astype(int)\n",
    "\n",
    "# Normalizar dados\n",
    "scaler = StandardScaler()\n",
    "X_scaled = scaler.fit_transform(X)"
   ]
  },
  {
   "cell_type": "markdown",
   "id": "973a44eb",
   "metadata": {},
   "source": [
    "## 3. Dividir os dados em treino e teste"
   ]
  },
  {
   "cell_type": "code",
   "execution_count": 4,
   "id": "b8948ae8",
   "metadata": {},
   "outputs": [],
   "source": [
    "X_train, X_test, y_train, y_test = train_test_split(X_scaled, y, test_size=0.3, stratify=y, random_state=42)"
   ]
  },
  {
   "cell_type": "markdown",
   "id": "05e103a5",
   "metadata": {},
   "source": [
    "## 4. Definir 4 diferentes configurações\n",
    "definido 4 diferentes configurações para comparar o desempenho e decidir o melhor"
   ]
  },
  {
   "cell_type": "code",
   "execution_count": 5,
   "id": "fddd6bdc",
   "metadata": {},
   "outputs": [],
   "source": [
    "configs = [\n",
    "    MLPClassifier(hidden_layer_sizes=(100,), max_iter=50, learning_rate_init=0.01, momentum=0.9, random_state=1),\n",
    "    MLPClassifier(hidden_layer_sizes=(50, 50), max_iter=50, learning_rate_init=0.1, momentum=0.7, random_state=2),\n",
    "    MLPClassifier(hidden_layer_sizes=(100, 50), max_iter=50, learning_rate_init=0.001, momentum=0.5, random_state=3),\n",
    "    MLPClassifier(hidden_layer_sizes=(150,), max_iter=50, learning_rate_init=0.05, momentum=0.9, random_state=4)\n",
    "]\n"
   ]
  },
  {
   "cell_type": "markdown",
   "id": "57d0538f",
   "metadata": {},
   "source": [
    "## 5. Avaliar cada configuração\n"
   ]
  },
  {
   "cell_type": "code",
   "execution_count": 6,
   "id": "d3024209",
   "metadata": {},
   "outputs": [
    {
     "name": "stderr",
     "output_type": "stream",
     "text": [
      "c:\\Users\\Melqui\\AppData\\Local\\Programs\\Python\\Python311\\Lib\\site-packages\\sklearn\\neural_network\\_multilayer_perceptron.py:780: ConvergenceWarning: Stochastic Optimizer: Maximum iterations (50) reached and the optimization hasn't converged yet.\n",
      "  warnings.warn(\n"
     ]
    },
    {
     "name": "stdout",
     "output_type": "stream",
     "text": [
      " Configuração 1\n",
      " Acurácia Treino: 0.9491\n",
      " Acurácia Teste: 0.8709\n",
      " MSE Treino: 0.7183\n",
      " MSE Teste: 1.7598\n",
      " Medida-F (F1-score): 0.8713\n",
      "----------------------------------------\n",
      " Configuração 2\n",
      " Acurácia Treino: 0.1000\n",
      " Acurácia Teste: 0.1000\n",
      " MSE Treino: 28.5000\n",
      " MSE Teste: 28.5000\n",
      " Medida-F (F1-score): 0.0182\n",
      "----------------------------------------\n"
     ]
    },
    {
     "name": "stderr",
     "output_type": "stream",
     "text": [
      "c:\\Users\\Melqui\\AppData\\Local\\Programs\\Python\\Python311\\Lib\\site-packages\\sklearn\\neural_network\\_multilayer_perceptron.py:780: ConvergenceWarning: Stochastic Optimizer: Maximum iterations (50) reached and the optimization hasn't converged yet.\n",
      "  warnings.warn(\n"
     ]
    },
    {
     "name": "stdout",
     "output_type": "stream",
     "text": [
      " Configuração 3\n",
      " Acurácia Treino: 0.9885\n",
      " Acurácia Teste: 0.8768\n",
      " MSE Treino: 0.1457\n",
      " MSE Teste: 1.6455\n",
      " Medida-F (F1-score): 0.8772\n",
      "----------------------------------------\n",
      " Configuração 4\n",
      " Acurácia Treino: 0.8224\n",
      " Acurácia Teste: 0.7979\n",
      " MSE Treino: 2.4972\n",
      " MSE Teste: 2.7615\n",
      " Medida-F (F1-score): 0.8015\n",
      "----------------------------------------\n"
     ]
    }
   ],
   "source": [
    "for i, model in enumerate(configs):\n",
    "    model.fit(X_train, y_train)\n",
    "    y_pred_train = model.predict(X_train)\n",
    "    y_pred_test = model.predict(X_test)\n",
    "\n",
    "    mse_train = mean_squared_error(y_train, y_pred_train)\n",
    "    mse_test = mean_squared_error(y_test, y_pred_test)\n",
    "\n",
    "    f1 = f1_score(y_test, y_pred_test, average='weighted')\n",
    "    accuracy_train = model.score(X_train, y_train)\n",
    "    accuracy_test = model.score(X_test, y_test)\n",
    "\n",
    "    print(f\" Configuração {i+1}\")\n",
    "    print(f\" Acurácia Treino: {accuracy_train:.4f}\")\n",
    "    print(f\" Acurácia Teste: {accuracy_test:.4f}\")\n",
    "    print(f\" MSE Treino: {mse_train:.4f}\")\n",
    "    print(f\" MSE Teste: {mse_test:.4f}\")\n",
    "    print(f\" Medida-F (F1-score): {f1:.4f}\")\n",
    "    print(\"-\" * 40)"
   ]
  }
 ],
 "metadata": {
  "kernelspec": {
   "display_name": "Python 3",
   "language": "python",
   "name": "python3"
  },
  "language_info": {
   "codemirror_mode": {
    "name": "ipython",
    "version": 3
   },
   "file_extension": ".py",
   "mimetype": "text/x-python",
   "name": "python",
   "nbconvert_exporter": "python",
   "pygments_lexer": "ipython3",
   "version": "3.11.9"
  }
 },
 "nbformat": 4,
 "nbformat_minor": 5
}
