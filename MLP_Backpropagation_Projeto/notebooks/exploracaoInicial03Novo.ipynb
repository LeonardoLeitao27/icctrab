{
 "cells": [
  {
   "cell_type": "markdown",
   "id": "562b4c17",
   "metadata": {},
   "source": [
    "# Experimento: Influência da Topologia em Redes Neurais\n",
    "Este experimento avalia como diferentes **topologias de rede** (quantidade e tamanho das camadas ocultas) impactam no desempenho de uma rede neural treinada com o dataset Fashion MNIST.\n"
   ]
  },
  {
   "cell_type": "markdown",
   "id": "73a03c5d",
   "metadata": {},
   "source": [
    "## 1. Imports"
   ]
  },
  {
   "cell_type": "code",
   "execution_count": null,
   "id": "3553b7ac",
   "metadata": {},
   "outputs": [],
   "source": [
    "import tensorflow as tf\n",
    "import numpy as np\n",
    "import matplotlib.pyplot as plt\n",
    "from tensorflow.keras.models import Sequential\n",
    "from tensorflow.keras.layers import Dense, Flatten\n",
    "from tensorflow.keras.initializers import GlorotUniform\n",
    "from tensorflow.keras.optimizers import SGD\n",
    "from tensorflow.keras.losses import MeanSquaredError"
   ]
  },
  {
   "cell_type": "markdown",
   "id": "e9453653",
   "metadata": {},
   "source": [
    "## 2. Carregamento e pré-processamento dos dados\n",
    "Usamos o dataset Fashion MNIST e normalizamos os dados. Limitamos a base a 10.000 amostras para acelerar o experimento."
   ]
  },
  {
   "cell_type": "code",
   "execution_count": null,
   "id": "2f77ed69",
   "metadata": {},
   "outputs": [],
   "source": [
    "# Dados\n",
    "(x_train, y_train), (_, _) = tf.keras.datasets.fashion_mnist.load_data()\n",
    "x_train = x_train / 255.0\n",
    "x_train = x_train[:10000]\n",
    "y_train = y_train[:10000]\n",
    "y_train = tf.keras.utils.to_categorical(y_train, 10)"
   ]
  },
  {
   "cell_type": "markdown",
   "id": "1d75cfb8",
   "metadata": {},
   "source": [
    "## 3. Definição das topologias da rede\n",
    "Testaremos diferentes combinações de camadas e neurônios."
   ]
  },
  {
   "cell_type": "code",
   "execution_count": null,
   "id": "a8674018",
   "metadata": {},
   "outputs": [],
   "source": [
    "# Definições de topologias para testar\n",
    "topologias = [\n",
    "    [64],            # 1 camada com 64 neurônios\n",
    "    [128],           # 1 camada com 128 neurônios\n",
    "    [64, 64],        # 2 camadas com 64 neurônios cada\n",
    "    [128, 64],       # 2 camadas, 128 + 64 neurônios\n",
    "    [128, 128],      # 2 camadas com 128 neurônios\n",
    "]"
   ]
  },
  {
   "cell_type": "markdown",
   "id": "725df62d",
   "metadata": {},
   "source": [
    "## 4. Função para construção do modelo\n",
    "A arquitetura é definida dinamicamente com base na topologia especificada."
   ]
  },
  {
   "cell_type": "code",
   "execution_count": null,
   "id": "80392da0",
   "metadata": {},
   "outputs": [],
   "source": [
    "def build_model(neurons_per_layer):\n",
    "    model = Sequential()\n",
    "    model.add(Flatten(input_shape=(28, 28)))\n",
    "    for n in neurons_per_layer:\n",
    "        model.add(Dense(n, activation='relu', kernel_initializer=GlorotUniform(seed=0)))\n",
    "    model.add(Dense(10, activation='softmax'))\n",
    "    return model"
   ]
  },
  {
   "cell_type": "markdown",
   "id": "62a6a02c",
   "metadata": {},
   "source": [
    "## 5. Treinamento e visualização dos resultados\n",
    "Treinamos a rede para cada topologia e armazenamos as curvas de perda para análise."
   ]
  },
  {
   "cell_type": "code",
   "execution_count": null,
   "id": "9ed76486",
   "metadata": {},
   "outputs": [],
   "source": [
    "loss_fn = MeanSquaredError()\n",
    "results = {}\n",
    "\n",
    "for topo in topologias:\n",
    "    print(f\"\\nTestando topologia: {topo}\")\n",
    "    model = build_model(topo)\n",
    "    model.compile(optimizer=SGD(learning_rate=0.01),\n",
    "                  loss=loss_fn,\n",
    "                  metrics=['mse'])\n",
    "    history = model.fit(x_train, y_train, epochs=20, verbose=0)\n",
    "    loss_curve = history.history['loss']\n",
    "    results[tuple(topo)] = loss_curve\n",
    "    \n",
    "    plt.plot(loss_curve, label=f'Topologia: {topo}')\n",
    "\n",
    "plt.title('Curvas de perda (Loss) – Teste de Topologia')\n",
    "plt.xlabel('Época')\n",
    "plt.ylabel('Loss (MSE)')\n",
    "plt.legend()\n",
    "plt.grid(True)\n",
    "plt.show()"
   ]
  }
 ],
 "metadata": {},
 "nbformat": 4,
 "nbformat_minor": 5
}
